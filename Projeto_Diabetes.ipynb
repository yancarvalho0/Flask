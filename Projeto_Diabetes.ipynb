{
  "cells": [
    {
      "cell_type": "code",
      "execution_count": null,
      "metadata": {
        "id": "rynM2V8uWIQZ"
      },
      "outputs": [],
      "source": [
        "from sklearn.naive_bayes import GaussianNB\n",
        "import pandas as pd\n",
        "url = \"diabetes_012_health_indicators_BRFSS2015.csv\"\n",
        "data = pd.read_csv(url)\n",
        "#data.head()\n",
        "data.info()"
      ]
    },
    {
      "cell_type": "code",
      "execution_count": null,
      "metadata": {
        "id": "_FVDUygYTlY_"
      },
      "outputs": [],
      "source": [
        "remover = [\"Diabetes_012\", 'BMI', 'Veggies', 'HvyAlcoholConsump', 'AnyHealthcare', 'NoDocbcCost', 'GenHlth', 'MentHlth', 'PhysHlth', 'DiffWalk', 'Sex', 'Age', 'Education', 'Income']\n",
        "x = data.drop(remover, axis = 1) #features\n",
        "y = data['Diabetes_012'] #label\n",
        "print(x)"
      ]
    },
    {
      "cell_type": "code",
      "execution_count": 108,
      "metadata": {
        "colab": {
          "base_uri": "https://localhost:8080/"
        },
        "id": "z9B_V1mqZHiR",
        "outputId": "b1f01572-1f3b-408d-9f67-3aadf51b7e56"
      },
      "outputs": [
        {
          "name": "stdout",
          "output_type": "stream",
          "text": [
            "177576\n",
            "76104\n"
          ]
        }
      ],
      "source": [
        "from sklearn.model_selection import train_test_split\n",
        "x_treino, x_teste, y_treino, y_teste = train_test_split (x,y,test_size=0.3,random_state=42)\n",
        "print(len(x_treino))\n",
        "print(len(x_teste))"
      ]
    },
    {
      "cell_type": "code",
      "execution_count": 109,
      "metadata": {
        "colab": {
          "base_uri": "https://localhost:8080/"
        },
        "id": "eZMwtDemZNfr",
        "outputId": "60c7cafe-5d5d-47d2-fd27-90e62fbd2dea"
      },
      "outputs": [
        {
          "name": "stdout",
          "output_type": "stream",
          "text": [
            "Preditos: [0. 0. 0. 0. 0. 0. 0. 0. 0. 0. 0. 0. 0. 2. 0. 0. 0. 2. 0. 0.]\n",
            "Real....: [0. 0. 0. 0. 0. 1. 1. 0. 0. 0. 0. 0. 0. 0. 0. 0. 0. 2. 0. 0.]\n"
          ]
        }
      ],
      "source": [
        "clf = GaussianNB()\n",
        "clf = clf.fit(x_treino,y_treino)\n",
        "preditos = clf.predict(x_teste)\n",
        "real = y_teste.values\n",
        "print(\"Preditos:\",preditos[:20])\n",
        "print(\"Real....:\",real[:20])"
      ]
    },
    {
      "cell_type": "code",
      "execution_count": 110,
      "metadata": {
        "colab": {
          "base_uri": "https://localhost:8080/"
        },
        "id": "bIJZO2NVSkd2",
        "outputId": "31e870c9-249e-4487-c4bb-1665ce5e2a33"
      },
      "outputs": [
        {
          "name": "stdout",
          "output_type": "stream",
          "text": [
            "Acurácia: 0.7878298118364343\n"
          ]
        }
      ],
      "source": [
        "from sklearn.metrics import accuracy_score\n",
        "print(\"Acurácia:\",accuracy_score(real,preditos))"
      ]
    },
    {
      "cell_type": "code",
      "execution_count": 131,
      "metadata": {
        "colab": {
          "base_uri": "https://localhost:8080/"
        },
        "id": "JGsTBEHPYGxZ",
        "outputId": "9fb1e282-35ee-4f93-efed-89874551edfe"
      },
      "outputs": [
        {
          "name": "stdout",
          "output_type": "stream",
          "text": [
            "Pressão alta ? [1-sim 0-não]:1\n",
            "Colesterol alto ? [1-sim 0-não]:1\n",
            "Teve colesterol nos últimos 5 anos ? [1-sim 0-não]:1\n",
            "Fumou pelo menos 100 cigarros em toda sua vida (5 maços = 100 cigarros) ? [1-sim 0-não]:0\n",
            "Já teve derrame ? [1-sim 0-não]:0\n",
            "Já teve Doença arterial coronariana (DAC) ou Infarto agudo do miocárdio (IM) ? [1-sim 0-não]:0\n",
            "Praticou atividade física nos últimos 30 dias ?  [1-sim 0-nao]:1\n",
            "Consome 1 ou mais frutas ao dia ? [1-sim 0-nao]:1\n",
            "Não tem diabetes\n"
          ]
        },
        {
          "name": "stderr",
          "output_type": "stream",
          "text": [
            "/usr/local/lib/python3.7/dist-packages/sklearn/base.py:451: UserWarning: X does not have valid feature names, but GaussianNB was fitted with feature names\n",
            "  \"X does not have valid feature names, but\"\n"
          ]
        }
      ],
      "source": [
        "a = int(input('Pressão alta ? [1-sim 0-não]:'))\n",
        "b = int(input('Colesterol alto ? [1-sim 0-não]:'))\n",
        "c = int(input('Teve colesterol nos últimos 5 anos ? [1-sim 0-não]:'))\n",
        "d = int(input('Fumou pelo menos 100 cigarros em toda sua vida (5 maços = 100 cigarros) ? [1-sim 0-não]:'))\n",
        "e = int(input('Já teve derrame ? [1-sim 0-não]:'))\n",
        "f = int(input('Já teve Doença arterial coronariana (DAC) ou Infarto agudo do miocárdio (IM) ? [1-sim 0-não]:'))\n",
        "g = int(input('Praticou atividade física nos últimos 30 dias ?  [1-sim 0-nao]:'))\n",
        "h = int(input('Consome 1 ou mais frutas ao dia ? [1-sim 0-nao]:'))\n",
        "pred = clf.predict([[a,b,c,b,e,f,g,h,]])\n",
        "if(pred[0]==0): print(\"Não tem diabetes\");\n",
        "if(pred[0]==1): print(\"Possui pré-diabetes\");\n",
        "if(pred[0]==2): print(\"Possui diabetes\");\n"
      ]
    }
  ],
  "metadata": {
    "colab": {
      "provenance": []
    },
    "kernelspec": {
      "display_name": "Python 3.10.8 64-bit",
      "language": "python",
      "name": "python3"
    },
    "language_info": {
      "name": "python",
      "version": "3.10.8"
    },
    "vscode": {
      "interpreter": {
        "hash": "369f2c481f4da34e4445cda3fffd2e751bd1c4d706f27375911949ba6bb62e1c"
      }
    }
  },
  "nbformat": 4,
  "nbformat_minor": 0
}
